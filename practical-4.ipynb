{
 "cells": [
  {
   "cell_type": "code",
   "execution_count": 114,
   "metadata": {},
   "outputs": [],
   "source": [
    "import pandas as pd\n",
    "import matplotlib.pyplot as plt\n",
    "import numpy as np\n",
    "\n",
    "# data = pd.read_csv('data/BSS_Full_season_Users.csv')\n",
    "data = pd.read_csv('data/BSS_Full_season_Users.csv', dtype={'hsl_postal_code': str})"
   ]
  },
  {
   "cell_type": "code",
   "execution_count": 115,
   "metadata": {},
   "outputs": [
    {
     "data": {
      "text/html": [
       "<div>\n",
       "<style scoped>\n",
       "    .dataframe tbody tr th:only-of-type {\n",
       "        vertical-align: middle;\n",
       "    }\n",
       "\n",
       "    .dataframe tbody tr th {\n",
       "        vertical-align: top;\n",
       "    }\n",
       "\n",
       "    .dataframe thead th {\n",
       "        text-align: right;\n",
       "    }\n",
       "</style>\n",
       "<table border=\"1\" class=\"dataframe\">\n",
       "  <thead>\n",
       "    <tr style=\"text-align: right;\">\n",
       "      <th></th>\n",
       "      <th>hsl_age</th>\n",
       "      <th>hsl_gender</th>\n",
       "      <th>hsl_postal_code</th>\n",
       "      <th>hsl_region</th>\n",
       "      <th>hsl_city</th>\n",
       "      <th>hsl_country</th>\n",
       "      <th>insideArea</th>\n",
       "      <th>trip_count</th>\n",
       "      <th>departure_station1_nunique</th>\n",
       "      <th>return_station1_nunique</th>\n",
       "      <th>...</th>\n",
       "      <th>nearDepStartFromRet_ratio</th>\n",
       "      <th>Days_RetToStartDep_ratio</th>\n",
       "      <th>Days_NearRetToStartDep_ratio</th>\n",
       "      <th>loop_ratio</th>\n",
       "      <th>userDayCount</th>\n",
       "      <th>tripsPerDay</th>\n",
       "      <th>userDayRatio</th>\n",
       "      <th>weekdayTripCount</th>\n",
       "      <th>weekendTripCount</th>\n",
       "      <th>week_weekend_relaRatio</th>\n",
       "    </tr>\n",
       "  </thead>\n",
       "  <tbody>\n",
       "    <tr>\n",
       "      <th>0</th>\n",
       "      <td>52.0</td>\n",
       "      <td>male</td>\n",
       "      <td>00180</td>\n",
       "      <td>Kamppi - Ruoholahti</td>\n",
       "      <td>Helsinki</td>\n",
       "      <td>FI</td>\n",
       "      <td>1</td>\n",
       "      <td>43</td>\n",
       "      <td>15</td>\n",
       "      <td>18</td>\n",
       "      <td>...</td>\n",
       "      <td>0.093023</td>\n",
       "      <td>0.027778</td>\n",
       "      <td>0.055556</td>\n",
       "      <td>0.000000</td>\n",
       "      <td>36</td>\n",
       "      <td>0.245714</td>\n",
       "      <td>0.205714</td>\n",
       "      <td>31.0</td>\n",
       "      <td>12.0</td>\n",
       "      <td>1.033333</td>\n",
       "    </tr>\n",
       "    <tr>\n",
       "      <th>1</th>\n",
       "      <td>42.0</td>\n",
       "      <td>NaN</td>\n",
       "      <td>04230</td>\n",
       "      <td>Pihkaniitty</td>\n",
       "      <td>Kerava</td>\n",
       "      <td>FI</td>\n",
       "      <td>0</td>\n",
       "      <td>46</td>\n",
       "      <td>22</td>\n",
       "      <td>24</td>\n",
       "      <td>...</td>\n",
       "      <td>0.282609</td>\n",
       "      <td>0.038462</td>\n",
       "      <td>0.153846</td>\n",
       "      <td>0.000000</td>\n",
       "      <td>27</td>\n",
       "      <td>0.262857</td>\n",
       "      <td>0.154286</td>\n",
       "      <td>41.0</td>\n",
       "      <td>5.0</td>\n",
       "      <td>3.280000</td>\n",
       "    </tr>\n",
       "    <tr>\n",
       "      <th>2</th>\n",
       "      <td>44.0</td>\n",
       "      <td>NaN</td>\n",
       "      <td>00160</td>\n",
       "      <td>Katajanokka</td>\n",
       "      <td>Helsinki</td>\n",
       "      <td>FI</td>\n",
       "      <td>1</td>\n",
       "      <td>251</td>\n",
       "      <td>41</td>\n",
       "      <td>41</td>\n",
       "      <td>...</td>\n",
       "      <td>0.482072</td>\n",
       "      <td>0.247423</td>\n",
       "      <td>0.319588</td>\n",
       "      <td>0.003984</td>\n",
       "      <td>98</td>\n",
       "      <td>1.434286</td>\n",
       "      <td>0.560000</td>\n",
       "      <td>246.0</td>\n",
       "      <td>5.0</td>\n",
       "      <td>19.680000</td>\n",
       "    </tr>\n",
       "    <tr>\n",
       "      <th>3</th>\n",
       "      <td>45.0</td>\n",
       "      <td>NaN</td>\n",
       "      <td>02700</td>\n",
       "      <td>Kauniainen</td>\n",
       "      <td>Kauniainen</td>\n",
       "      <td>FI</td>\n",
       "      <td>0</td>\n",
       "      <td>17</td>\n",
       "      <td>8</td>\n",
       "      <td>13</td>\n",
       "      <td>...</td>\n",
       "      <td>0.352941</td>\n",
       "      <td>0.000000</td>\n",
       "      <td>0.100000</td>\n",
       "      <td>0.000000</td>\n",
       "      <td>11</td>\n",
       "      <td>0.097143</td>\n",
       "      <td>0.062857</td>\n",
       "      <td>17.0</td>\n",
       "      <td>0.0</td>\n",
       "      <td>17.000000</td>\n",
       "    </tr>\n",
       "    <tr>\n",
       "      <th>4</th>\n",
       "      <td>36.0</td>\n",
       "      <td>NaN</td>\n",
       "      <td>00520</td>\n",
       "      <td>Itä-Pasila</td>\n",
       "      <td>Helsinki</td>\n",
       "      <td>FI</td>\n",
       "      <td>1</td>\n",
       "      <td>98</td>\n",
       "      <td>24</td>\n",
       "      <td>26</td>\n",
       "      <td>...</td>\n",
       "      <td>0.265306</td>\n",
       "      <td>0.098361</td>\n",
       "      <td>0.131148</td>\n",
       "      <td>0.000000</td>\n",
       "      <td>62</td>\n",
       "      <td>0.560000</td>\n",
       "      <td>0.354286</td>\n",
       "      <td>81.0</td>\n",
       "      <td>17.0</td>\n",
       "      <td>1.905882</td>\n",
       "    </tr>\n",
       "  </tbody>\n",
       "</table>\n",
       "<p>5 rows × 48 columns</p>\n",
       "</div>"
      ],
      "text/plain": [
       "   hsl_age hsl_gender hsl_postal_code           hsl_region    hsl_city  \\\n",
       "0     52.0       male           00180  Kamppi - Ruoholahti    Helsinki   \n",
       "1     42.0        NaN           04230          Pihkaniitty      Kerava   \n",
       "2     44.0        NaN           00160          Katajanokka    Helsinki   \n",
       "3     45.0        NaN           02700           Kauniainen  Kauniainen   \n",
       "4     36.0        NaN           00520           Itä-Pasila    Helsinki   \n",
       "\n",
       "  hsl_country  insideArea  trip_count  departure_station1_nunique  \\\n",
       "0          FI           1          43                          15   \n",
       "1          FI           0          46                          22   \n",
       "2          FI           1         251                          41   \n",
       "3          FI           0          17                           8   \n",
       "4          FI           1          98                          24   \n",
       "\n",
       "   return_station1_nunique           ...            nearDepStartFromRet_ratio  \\\n",
       "0                       18           ...                             0.093023   \n",
       "1                       24           ...                             0.282609   \n",
       "2                       41           ...                             0.482072   \n",
       "3                       13           ...                             0.352941   \n",
       "4                       26           ...                             0.265306   \n",
       "\n",
       "   Days_RetToStartDep_ratio  Days_NearRetToStartDep_ratio  loop_ratio  \\\n",
       "0                  0.027778                      0.055556    0.000000   \n",
       "1                  0.038462                      0.153846    0.000000   \n",
       "2                  0.247423                      0.319588    0.003984   \n",
       "3                  0.000000                      0.100000    0.000000   \n",
       "4                  0.098361                      0.131148    0.000000   \n",
       "\n",
       "   userDayCount  tripsPerDay  userDayRatio  weekdayTripCount  \\\n",
       "0            36     0.245714      0.205714              31.0   \n",
       "1            27     0.262857      0.154286              41.0   \n",
       "2            98     1.434286      0.560000             246.0   \n",
       "3            11     0.097143      0.062857              17.0   \n",
       "4            62     0.560000      0.354286              81.0   \n",
       "\n",
       "   weekendTripCount  week_weekend_relaRatio  \n",
       "0              12.0                1.033333  \n",
       "1               5.0                3.280000  \n",
       "2               5.0               19.680000  \n",
       "3               0.0               17.000000  \n",
       "4              17.0                1.905882  \n",
       "\n",
       "[5 rows x 48 columns]"
      ]
     },
     "execution_count": 115,
     "metadata": {},
     "output_type": "execute_result"
    }
   ],
   "source": [
    "data.head()"
   ]
  },
  {
   "cell_type": "code",
   "execution_count": 116,
   "metadata": {},
   "outputs": [],
   "source": [
    "# GENDERS\n",
    "male_users = data.loc[data['hsl_gender'] == 'male']\n",
    "female_users = data.loc[data['hsl_gender'] == 'female']\n",
    "\n",
    "count_male = len(male_users)\n",
    "count_female = len(female_users)\n",
    "gender_nan_users = len(data)-count_male-count_female"
   ]
  },
  {
   "cell_type": "code",
   "execution_count": 117,
   "metadata": {},
   "outputs": [
    {
     "name": "stdout",
     "output_type": "stream",
     "text": [
      "Users genders:\n",
      "all: 35196\n",
      "male: 12625 share: 35.87055347198545\n",
      "female: 10556 share: 29.992044550517104\n",
      "other: 12015 share: 34.13740197749745\n"
     ]
    }
   ],
   "source": [
    "print('Users genders:')\n",
    "print('all:', len(data))\n",
    "print('male:', count_male, 'share:', count_male/len(data)*100)\n",
    "print('female:', count_female, 'share:', count_female/len(data)*100)\n",
    "print('other:', gender_nan_users, 'share:', gender_nan_users/len(data)*100)"
   ]
  },
  {
   "cell_type": "code",
   "execution_count": 118,
   "metadata": {},
   "outputs": [
    {
     "data": {
      "image/png": "[encoded data removed]",
      "text/plain": [
       "<Figure size 432x288 with 1 Axes>"
      ]
     },
     "metadata": {},
     "output_type": "display_data"
    }
   ],
   "source": [
    "# AGE GROUPS: HISTOGRAM\n",
    "ages = data.dropna(subset=['hsl_age'])\n",
    "\n",
    "fig, ax = plt.subplots()\n",
    "ax.hist(ages.hsl_age, bins=range(5,90))\n",
    "ax.set(xlabel='Age', ylabel='Users')\n",
    "\n",
    "fig.savefig('plots/user_ages.png', dpi=150)\n"
   ]
  },
  {
   "cell_type": "code",
   "execution_count": 119,
   "metadata": {},
   "outputs": [
    {
     "name": "stdout",
     "output_type": "stream",
     "text": [
      "Users of ages 40-45: 3436\n"
     ]
    }
   ],
   "source": [
    "# AGE GROUPS: 40-45 V\n",
    "ages_40_45 = data.loc[(data['hsl_age'] >= 40) & (data['hsl_age'] <= 45)]\n",
    "print('Users of ages 40-45:', len(ages_40_45))"
   ]
  },
  {
   "cell_type": "code",
   "execution_count": 120,
   "metadata": {},
   "outputs": [
    {
     "name": "stdout",
     "output_type": "stream",
     "text": [
      "Users from Espoo: 2675\n"
     ]
    }
   ],
   "source": [
    "# USERS FROM ESPOO\n",
    "users_espoo = data.loc[(data['hsl_city'] == 'Espoo')]\n",
    "print('Users from Espoo:', len(users_espoo))"
   ]
  },
  {
   "cell_type": "code",
   "execution_count": 121,
   "metadata": {},
   "outputs": [
    {
     "name": "stdout",
     "output_type": "stream",
     "text": [
      "Users that live inside the area: 24304 - 69.05330151153541\n",
      "Users that live outside the area: 10892 - 30.946698488464598\n"
     ]
    }
   ],
   "source": [
    "# SHARE OF INSIDE / OUTSIDE AREA\n",
    "users_inside = data.loc[(data['insideArea'] == 1)]\n",
    "users_outside = data.loc[(data['insideArea'] == 0)]\n",
    "\n",
    "print('Users that live inside the area:', len(users_inside), '-', len(users_inside)/len(data)*100)\n",
    "print('Users that live outside the area:', len(users_outside), '-', len(users_outside)/len(data)*100)"
   ]
  },
  {
   "cell_type": "code",
   "execution_count": 122,
   "metadata": {},
   "outputs": [],
   "source": [
    "# GROUP DATA WITH POSTAL CODES\n",
    "grouped = data.groupby(['hsl_postal_code'])"
   ]
  },
  {
   "cell_type": "code",
   "execution_count": 123,
   "metadata": {},
   "outputs": [],
   "source": [
    "pcodes = []\n",
    "usercounts = []\n",
    "ratios = []\n",
    "userdaycounts_mean = []\n",
    "userdaycounts_median = []\n",
    "tripcounts_mean = []\n",
    "tripcounts_median = []\n",
    "tripcounts_sum = []\n",
    "\n",
    "for idx, values in grouped:\n",
    "    gdata = values\n",
    "    mean_weekend_week_ratio = gdata['week_weekend_relaRatio'].mean()\n",
    "    userdaycount_mean = gdata['userDayCount'].mean()\n",
    "    userdaycount_median = gdata['userDayCount'].median()\n",
    "    tripcount_mean = gdata['trip_count'].mean()\n",
    "    tripcount_median = gdata['trip_count'].median()\n",
    "    tripcount_sum = gdata['trip_count'].sum()\n",
    "\n",
    "    pcodes.append(idx)\n",
    "    usercounts.append(len(gdata))\n",
    "    ratios.append(mean_weekend_week_ratio)\n",
    "    userdaycounts_mean.append(userdaycount_mean)\n",
    "    userdaycounts_median.append(userdaycount_median)\n",
    "    tripcounts_mean.append(tripcount_mean)\n",
    "    tripcounts_median.append(tripcount_median)\n",
    "    tripcounts_sum.append(tripcount_sum)\n",
    "\n",
    "\n",
    "pcodestats = pd.DataFrame(data={'pcode': pcodes, 'usercount':usercounts, 'week_weekend_ratio': ratios, 'userdaycount_mean':userdaycounts_mean, 'userdaycount_median': userdaycounts_median, \\\n",
    "                                'tripcount_mean': tripcounts_mean, 'tripcount_median': tripcounts_median, 'tripcount_sum': tripcounts_sum})  \n"
   ]
  },
  {
   "cell_type": "code",
   "execution_count": 124,
   "metadata": {},
   "outputs": [
    {
     "data": {
      "text/html": [
       "<div>\n",
       "<style scoped>\n",
       "    .dataframe tbody tr th:only-of-type {\n",
       "        vertical-align: middle;\n",
       "    }\n",
       "\n",
       "    .dataframe tbody tr th {\n",
       "        vertical-align: top;\n",
       "    }\n",
       "\n",
       "    .dataframe thead th {\n",
       "        text-align: right;\n",
       "    }\n",
       "</style>\n",
       "<table border=\"1\" class=\"dataframe\">\n",
       "  <thead>\n",
       "    <tr style=\"text-align: right;\">\n",
       "      <th></th>\n",
       "      <th>pcode</th>\n",
       "      <th>usercount</th>\n",
       "      <th>week_weekend_ratio</th>\n",
       "      <th>userdaycount_mean</th>\n",
       "      <th>userdaycount_median</th>\n",
       "      <th>tripcount_mean</th>\n",
       "      <th>tripcount_median</th>\n",
       "      <th>tripcount_sum</th>\n",
       "    </tr>\n",
       "  </thead>\n",
       "  <tbody>\n",
       "    <tr>\n",
       "      <th>0</th>\n",
       "      <td>00100</td>\n",
       "      <td>2251</td>\n",
       "      <td>2.473702</td>\n",
       "      <td>28.513994</td>\n",
       "      <td>21.0</td>\n",
       "      <td>48.423367</td>\n",
       "      <td>31.0</td>\n",
       "      <td>109001</td>\n",
       "    </tr>\n",
       "    <tr>\n",
       "      <th>1</th>\n",
       "      <td>00120</td>\n",
       "      <td>724</td>\n",
       "      <td>3.095364</td>\n",
       "      <td>27.908840</td>\n",
       "      <td>19.0</td>\n",
       "      <td>47.266575</td>\n",
       "      <td>29.0</td>\n",
       "      <td>34221</td>\n",
       "    </tr>\n",
       "    <tr>\n",
       "      <th>2</th>\n",
       "      <td>00130</td>\n",
       "      <td>178</td>\n",
       "      <td>2.960543</td>\n",
       "      <td>22.735955</td>\n",
       "      <td>15.0</td>\n",
       "      <td>37.449438</td>\n",
       "      <td>21.0</td>\n",
       "      <td>6666</td>\n",
       "    </tr>\n",
       "    <tr>\n",
       "      <th>3</th>\n",
       "      <td>00140</td>\n",
       "      <td>795</td>\n",
       "      <td>2.587666</td>\n",
       "      <td>26.122013</td>\n",
       "      <td>18.0</td>\n",
       "      <td>43.771069</td>\n",
       "      <td>27.0</td>\n",
       "      <td>34798</td>\n",
       "    </tr>\n",
       "    <tr>\n",
       "      <th>4</th>\n",
       "      <td>00150</td>\n",
       "      <td>1080</td>\n",
       "      <td>2.835541</td>\n",
       "      <td>28.788889</td>\n",
       "      <td>21.0</td>\n",
       "      <td>48.902778</td>\n",
       "      <td>29.0</td>\n",
       "      <td>52815</td>\n",
       "    </tr>\n",
       "  </tbody>\n",
       "</table>\n",
       "</div>"
      ],
      "text/plain": [
       "   pcode  usercount  week_weekend_ratio  userdaycount_mean  \\\n",
       "0  00100       2251            2.473702          28.513994   \n",
       "1  00120        724            3.095364          27.908840   \n",
       "2  00130        178            2.960543          22.735955   \n",
       "3  00140        795            2.587666          26.122013   \n",
       "4  00150       1080            2.835541          28.788889   \n",
       "\n",
       "   userdaycount_median  tripcount_mean  tripcount_median  tripcount_sum  \n",
       "0                 21.0       48.423367              31.0         109001  \n",
       "1                 19.0       47.266575              29.0          34221  \n",
       "2                 15.0       37.449438              21.0           6666  \n",
       "3                 18.0       43.771069              27.0          34798  \n",
       "4                 21.0       48.902778              29.0          52815  "
      ]
     },
     "execution_count": 124,
     "metadata": {},
     "output_type": "execute_result"
    }
   ],
   "source": [
    "pcodestats.head(5)"
   ]
  },
  {
   "cell_type": "code",
   "execution_count": 126,
   "metadata": {},
   "outputs": [],
   "source": [
    "# SAVE PCODE STATS TO FILE\n",
    "pcodestats.to_csv('bss_pcode_stats_1.1.csv')"
   ]
  },
  {
   "cell_type": "code",
   "execution_count": 155,
   "metadata": {},
   "outputs": [
    {
     "data": {
      "image/png": "[encoded data removed]",
      "text/plain": [
       "<Figure size 864x504 with 1 Axes>"
      ]
     },
     "metadata": {},
     "output_type": "display_data"
    }
   ],
   "source": [
    "# PLOT USER DAY COUNT & TRIP COUNT\n",
    "\n",
    "fig, ax = plt.subplots(figsize=(12,7))\n",
    "ax.scatter(pcodestats['userdaycount_median'], pcodestats['tripcount_median'], c='black', s=9, marker='o')\n",
    "\n",
    "ax.set(ylabel='Trip count', xlabel='Day count')\n",
    "# set font size\n",
    "plt.rcParams.update({'font.size': 12})\n",
    "ax.xaxis.label.set_size(14)\n",
    "ax.yaxis.label.set_size(14)\n",
    "fig.savefig('plots/trips_days.png', dpi=150)\n"
   ]
  },
  {
   "cell_type": "code",
   "execution_count": null,
   "metadata": {},
   "outputs": [],
   "source": []
  }
 ],
 "metadata": {
  "kernelspec": {
   "display_name": "Python 3",
   "language": "python",
   "name": "python3"
  },
  "language_info": {
   "codemirror_mode": {
    "name": "ipython",
    "version": 3
   },
   "file_extension": ".py",
   "mimetype": "text/x-python",
   "name": "python",
   "nbconvert_exporter": "python",
   "pygments_lexer": "ipython3",
   "version": "3.6.5"
  }
 },
 "nbformat": 4,
 "nbformat_minor": 2
}
